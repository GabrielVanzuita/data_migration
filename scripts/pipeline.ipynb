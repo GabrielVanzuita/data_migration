{
 "cells": [
  {
   "cell_type": "markdown",
   "metadata": {},
   "source": [
    "# IMPORTAÇÕES"
   ]
  },
  {
   "cell_type": "code",
   "execution_count": 3,
   "metadata": {},
   "outputs": [],
   "source": [
    "import os\n",
    "from classes.connection_mongo import MongoConnection\n",
    "from classes.operations import DataSource\n",
    "import pymongo as pymongo\n",
    "import mysql.connector\n",
    "import numpy as np\n",
    "import pandas as pd\n",
    "\n"
   ]
  },
  {
   "cell_type": "markdown",
   "metadata": {},
   "source": [
    "# ACESSANDO O BANCO DE DADOS"
   ]
  },
  {
   "cell_type": "code",
   "execution_count": 5,
   "metadata": {},
   "outputs": [
    {
     "data": {
      "text/plain": [
       "<function classes.connection_mongo.MongoConnection.connection(self)>"
      ]
     },
     "execution_count": 5,
     "metadata": {},
     "output_type": "execute_result"
    }
   ],
   "source": [
    "import os\n",
    "from classes.connection_mongo import MongoConnection\n",
    "\n",
    "# Usar variáveis de ambiente para maior segurança\n",
    "username = os.getenv(\"MONGO_USERNAME\", \"gbrvbusiness\")\n",
    "password = os.getenv(\"MONGO_PASSWORD\", \"9AHmX4Hna0nvuANa\")\n",
    "clustername = os.getenv(\"MONGO_CLUSTERNAME\", \"Mongo_Studies\")\n",
    "\n",
    "mg_Con = MongoConnection (username=username, password=password, clustername=clustername)\n",
    "direct_con = MongoConnection.connection\n",
    "\n",
    "#Teste\n",
    "direct_con\n"
   ]
  },
  {
   "cell_type": "code",
   "execution_count": 6,
   "metadata": {},
   "outputs": [],
   "source": [
    "mg_Con.close()\n"
   ]
  },
  {
   "cell_type": "markdown",
   "metadata": {},
   "source": [
    "# CRIANDO OS BANCOS DE DADOS"
   ]
  },
  {
   "cell_type": "code",
   "execution_count": 7,
   "metadata": {},
   "outputs": [],
   "source": [
    "# Criar uma base de dados e uma coleção para teste\n",
    "#operations.create_db(client=mongo_connection, db_name=\"Teste\", collection_name=\"T1\")\n",
    "#operations.load_data()\n",
    "\n",
    "#Criar o banco de dados e a coleção\n",
    "#operations.load_data()"
   ]
  },
  {
   "cell_type": "code",
   "execution_count": 5,
   "metadata": {},
   "outputs": [
    {
     "name": "stdout",
     "output_type": "stream",
     "text": [
      "Bancos de dados disponíveis: ['Teste', 'sample_mflix', 'admin', 'local']\n"
     ]
    }
   ],
   "source": [
    "# Listar bancos de dados existentes no cliente MongoDB\n",
    "mongo_connection.list_databases()"
   ]
  },
  {
   "cell_type": "code",
   "execution_count": 7,
   "metadata": {},
   "outputs": [
    {
     "name": "stdout",
     "output_type": "stream",
     "text": [
      "Conexão encerrada.\n"
     ]
    }
   ],
   "source": [
    "#Fecha a instância \n",
    "mongo_connection.close()"
   ]
  },
  {
   "cell_type": "markdown",
   "metadata": {},
   "source": [
    "# Lendo os dados"
   ]
  },
  {
   "cell_type": "code",
   "execution_count": 6,
   "metadata": {},
   "outputs": [],
   "source": [
    "db = client['sample_mflix']\n",
    "collection = db ['comments']"
   ]
  },
  {
   "cell_type": "code",
   "execution_count": 8,
   "metadata": {},
   "outputs": [],
   "source": [
    "#for doc in collection.find():\n",
    " #   print (doc)"
   ]
  },
  {
   "cell_type": "markdown",
   "metadata": {},
   "source": [
    "# Alterando os dados"
   ]
  },
  {
   "cell_type": "code",
   "execution_count": 19,
   "metadata": {},
   "outputs": [
    {
     "data": {
      "text/plain": [
       "UpdateResult({'n': 41079, 'electionId': ObjectId('7fffffff000000000000006f'), 'opTime': {'ts': Timestamp(1734748278, 1222), 't': 111}, 'nModified': 41079, 'ok': 1.0, '$clusterTime': {'clusterTime': Timestamp(1734748278, 1222), 'signature': {'hash': b'3\\xabeT\\x81\\xb4 \\xf7fb\\xa4\\xef\\xd4T\\xda\\x99\\xb6P\\x8f*', 'keyId': 7401190023602634762}}, 'operationTime': Timestamp(1734748278, 1222), 'updatedExisting': True}, acknowledged=True)"
      ]
     },
     "execution_count": 19,
     "metadata": {},
     "output_type": "execute_result"
    }
   ],
   "source": [
    "collection.update_many ({}, {\"$rename\": {\"text\" :  \"txt\"}})"
   ]
  },
  {
   "cell_type": "code",
   "execution_count": 22,
   "metadata": {},
   "outputs": [],
   "source": [
    "#for doc in collection.find():\n",
    "    #print (doc)"
   ]
  },
  {
   "cell_type": "markdown",
   "metadata": {},
   "source": [
    "# Query"
   ]
  },
  {
   "cell_type": "code",
   "execution_count": null,
   "metadata": {},
   "outputs": [],
   "source": [
    "query = {\"Categoria\": \"query\"}\n",
    "\n",
    "lista_livros = []\n",
    "for doc in collection.find (query):\n",
    "    print(doc)\n",
    "    lista_livros.append"
   ]
  },
  {
   "cell_type": "code",
   "execution_count": null,
   "metadata": {},
   "outputs": [],
   "source": [
    "collection.distinct('Categoria do Produto') #segrega os dados em valores únicos.\n"
   ]
  },
  {
   "cell_type": "code",
   "execution_count": null,
   "metadata": {},
   "outputs": [],
   "source": [
    "query = {\"Data\"}\n",
    "regex {\"Data da compra\": {\"$regex\": \"/202[1-9]\"}}"
   ]
  },
  {
   "cell_type": "markdown",
   "metadata": {},
   "source": [
    "# Fazendo a migração dos dados"
   ]
  },
  {
   "cell_type": "code",
   "execution_count": 13,
   "metadata": {},
   "outputs": [
    {
     "name": "stdout",
     "output_type": "stream",
     "text": [
      "<mysql.connector.connection_cext.CMySQLConnection object at 0x7f0435254070>\n"
     ]
    }
   ],
   "source": [
    "connection = mysql.connector.connect(\n",
    "        host='localhost',\n",
    "        user='root',\n",
    "        password='root',\n",
    " \n",
    ")\n",
    "\n",
    "print(connection) "
   ]
  },
  {
   "cell_type": "code",
   "execution_count": 17,
   "metadata": {},
   "outputs": [],
   "source": [
    "## Criação de uma base de dados\n",
    "\n",
    "cursor = connection.cursor ()#Instancia o executor de códigos\n",
    "cursor.execute (\"CREATE DATABASE IF NOT EXISTS dbteste;\")"
   ]
  },
  {
   "cell_type": "code",
   "execution_count": 20,
   "metadata": {},
   "outputs": [
    {
     "name": "stdout",
     "output_type": "stream",
     "text": [
      "('dbteste',)\n",
      "('information_schema',)\n",
      "('mysql',)\n",
      "('performance_schema',)\n",
      "('sys',)\n"
     ]
    }
   ],
   "source": [
    "for db in cursor:\n",
    "    print (db)"
   ]
  },
  {
   "cell_type": "code",
   "execution_count": null,
   "metadata": {},
   "outputs": [],
   "source": [
    "## Criando as tabelas\n",
    "\n",
    "df_dataframe = pd.read_csv('test')\n",
    "df_dataframe.columns()\n",
    "df_dataframe.shape()\n",
    "\n",
    "cursor.execute(\"\"\"\n",
    "    CREATE TABLE IF NOT EXISTS dbprodutos.tb_livros(\n",
    "               id VARCHAR(100),\n",
    "               Produto VARCHAR(100),\n",
    "               Categoria_Produto VARCHAR(100),\n",
    "               Preco FLOAT(10,2),\n",
    "               Frete FLOAT(10,2),\n",
    "               Data_Compra DATE,\n",
    "               Vendedor VARCHAR(100),\n",
    "               Local_Compra VARCHAR(100),\n",
    "               Avaliacao_Compra INT,\n",
    "               Tipo_Pagamento VARCHAR(100),\n",
    "               Qntd_Parcelas INT,\n",
    "               Latitude FLOAT(10,2),\n",
    "               Longitude FLOAT(10,2),\n",
    "               \n",
    "\"\"\")"
   ]
  },
  {
   "cell_type": "code",
   "execution_count": null,
   "metadata": {},
   "outputs": [],
   "source": [
    "cursor.execute (\"USE database\")\n",
    "cursor.execute (\"SHOW tables\")\n",
    "\n",
    "for tb in cursor:\n",
    "    print (tb)"
   ]
  },
  {
   "cell_type": "code",
   "execution_count": null,
   "metadata": {},
   "outputs": [],
   "source": [
    "## Inserindo os dados nas tabelas\n",
    "lista_dados = [tuple(row) for i, row in data_frame.interrows()]\n",
    "sql = \"INSERT INTO dbprodutos.tb_livros VALUES(%s,%s,%s,%s,%s)\"\n",
    "\n",
    "cursor.executemany(sql, lista_dados)\n",
    "connection.commit()\n"
   ]
  }
 ],
 "metadata": {
  "kernelspec": {
   "display_name": "venv",
   "language": "python",
   "name": "python3"
  },
  "language_info": {
   "codemirror_mode": {
    "name": "ipython",
    "version": 3
   },
   "file_extension": ".py",
   "mimetype": "text/x-python",
   "name": "python",
   "nbconvert_exporter": "python",
   "pygments_lexer": "ipython3",
   "version": "3.10.12"
  }
 },
 "nbformat": 4,
 "nbformat_minor": 2
}
