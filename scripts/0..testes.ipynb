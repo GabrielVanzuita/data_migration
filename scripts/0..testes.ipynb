{
 "cells": [
  {
   "cell_type": "code",
   "execution_count": 8,
   "metadata": {},
   "outputs": [],
   "source": [
    "import os\n",
    "from classes.connection_mongo import MongoConnection\n",
    "from classes.operations import DataSource\n",
    "import requests\n",
    "\n",
    "# Usar variáveis de ambiente para maior segurança\n",
    "username = os.getenv(\"MONGO_USERNAME\", \"gbrvbusiness\")\n",
    "password = os.getenv(\"MONGO_PASSWORD\", \"9AHmX4Hna0nvuANa\")\n",
    "clustername = os.getenv(\"MONGO_CLUSTERNAME\", \"StudiesCluster\")\n",
    "data_source = r\"/mnt/c/Users/Gabriel/Desktop/studyprojects/pomodorojson.json\"\n",
    "db_name = \"pasta\"\n",
    "collection_name = \"pomodoro\"\n",
    "\n",
    "#mg_Con = MongoConnection (username=username, password=password, clustername=clustername)\n",
    "#direct_con = mg_Con.connection()\n",
    "data = DataSource(source=data_source, db_name=db_name, collection_name=collection_name)\n"
   ]
  },
  {
   "cell_type": "markdown",
   "metadata": {},
   "source": [
    "# TESTE DA FUNÇÃO DATA_HANDLER\n"
   ]
  },
  {
   "cell_type": "code",
   "execution_count": 6,
   "metadata": {},
   "outputs": [],
   "source": [
    "data_source1 = r\"https://github.com/GabrielVanzuita/data_migration/blob/master/scripts/pomodorojson.json\"\n",
    "db_name = \"pasta\"\n",
    "collection_name = \"pomodoro\""
   ]
  },
  {
   "cell_type": "code",
   "execution_count": 27,
   "metadata": {},
   "outputs": [
    {
     "name": "stdout",
     "output_type": "stream",
     "text": [
      "O arquivo '/mnt/c/Users/Gabriel/Desktop/studyprojects/pomodorojson.json' existe!\n"
     ]
    }
   ],
   "source": [
    "# Caminho do arquivo (verifique se o caminho está correto)\n",
    "caminho = r\"/mnt/c/Users/Gabriel/Desktop/studyprojects/pomodorojson.json\"\n",
    "\n",
    "\n",
    "# Verificando se o arquivo existe\n",
    "if os.path.exists(caminho):\n",
    "    print(f\"O arquivo '{caminho}' existe!\")\n",
    "else:\n",
    "    print(f\"O arquivo '{caminho}' NÃO existe!\")"
   ]
  },
  {
   "cell_type": "code",
   "execution_count": 24,
   "metadata": {},
   "outputs": [
    {
     "name": "stdout",
     "output_type": "stream",
     "text": [
      "O caminho '/home/gbrv_linux/pipeline-python-mongo-mysql/scripts/pomodorojson.json' é um arquivo.\n"
     ]
    }
   ],
   "source": [
    "\n",
    "# Caminho do arquivo\n",
    "caminho = r\"/home/gbrv_linux/pipeline-python-mongo-mysql/scripts/pomodorojson.json\"\n",
    "\n",
    "# Verificando se é um arquivo\n",
    "if os.path.isfile(caminho):\n",
    "    print(f\"O caminho '{caminho}' é um arquivo.\")\n",
    "else:\n",
    "    print(f\"O caminho '{caminho}' NÃO é um arquivo.\")\n"
   ]
  },
  {
   "cell_type": "code",
   "execution_count": 28,
   "metadata": {},
   "outputs": [],
   "source": [
    "# Testando o handle_Source function"
   ]
  },
  {
   "cell_type": "code",
   "execution_count": 33,
   "metadata": {},
   "outputs": [
    {
     "name": "stdout",
     "output_type": "stream",
     "text": [
      "Local file detected.\n"
     ]
    }
   ],
   "source": [
    "\n",
    "data.handle_source()\n"
   ]
  },
  {
   "cell_type": "code",
   "execution_count": 36,
   "metadata": {},
   "outputs": [
    {
     "name": "stdout",
     "output_type": "stream",
     "text": [
      "JSON\n"
     ]
    }
   ],
   "source": [
    "#Testando data_type\n",
    "data.detect_data_type()\n",
    "print (data.data_type)"
   ]
  },
  {
   "cell_type": "markdown",
   "metadata": {},
   "source": [
    "# Testes para um arquivo online"
   ]
  },
  {
   "cell_type": "code",
   "execution_count": 13,
   "metadata": {},
   "outputs": [],
   "source": [
    "data_source1 = r\"https://github.com/GabrielVanzuita/data_migration/blob/master/scripts/pomodorojson.json\"\n",
    "db_name = \"pasta\"\n",
    "collection_name = \"pomodoro\"\n",
    "\n",
    "data_online = DataSource (source=data_source1, db_name=db_name, collection_name=collection_name)\n",
    "\n"
   ]
  },
  {
   "cell_type": "code",
   "execution_count": 15,
   "metadata": {},
   "outputs": [
    {
     "name": "stdout",
     "output_type": "stream",
     "text": [
      "Error fetching online source: 404 Client Error: Not Found for url: https://github.com/GabrielVanzuita/data_migration/blob/master/scripts/pomodorojson.json\n"
     ]
    }
   ],
   "source": [
    "data_online.handle_source()"
   ]
  },
  {
   "cell_type": "code",
   "execution_count": 33,
   "metadata": {},
   "outputs": [],
   "source": [
    "url = \"https://raw.githubusercontent.com/GabrielVanzuita/data_migration/refs/heads/master/scripts/pomodorojson.json?token=GHSAT0AAAAAAC5K6KFM33S2UIICFNRBD5DOZ4NFPFA\"\n",
    "getter_test = requests.get (url)\n",
    "\n"
   ]
  },
  {
   "cell_type": "code",
   "execution_count": 34,
   "metadata": {},
   "outputs": [
    {
     "name": "stdout",
     "output_type": "stream",
     "text": [
      "404: Not Found\n"
     ]
    }
   ],
   "source": [
    "print (getter_test.text)"
   ]
  },
  {
   "cell_type": "code",
   "execution_count": null,
   "metadata": {},
   "outputs": [],
   "source": []
  },
  {
   "cell_type": "code",
   "execution_count": null,
   "metadata": {},
   "outputs": [],
   "source": []
  }
 ],
 "metadata": {
  "kernelspec": {
   "display_name": "venv",
   "language": "python",
   "name": "python3"
  },
  "language_info": {
   "codemirror_mode": {
    "name": "ipython",
    "version": 3
   },
   "file_extension": ".py",
   "mimetype": "text/x-python",
   "name": "python",
   "nbconvert_exporter": "python",
   "pygments_lexer": "ipython3",
   "version": "3.10.12"
  }
 },
 "nbformat": 4,
 "nbformat_minor": 2
}
